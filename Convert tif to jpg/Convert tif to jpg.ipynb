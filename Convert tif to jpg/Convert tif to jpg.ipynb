{
 "cells": [
  {
   "cell_type": "code",
   "execution_count": 2,
   "metadata": {},
   "outputs": [],
   "source": [
    "# Initialization cell\n",
    "import glob\n",
    "import os\n",
    "import shutil\n",
    "\n",
    "path_to_dir = 'C:\\\\Users\\\\under\\\\Jupyter Projects\\\\Media Authentication Project\\\\CASIA2_all_jpg'"
   ]
  },
  {
   "cell_type": "code",
   "execution_count": 8,
   "metadata": {
    "scrolled": true
   },
   "outputs": [],
   "source": [
    "# This cell create jpg images\n",
    "from PIL import Image\n",
    "# Returns the list of subdirectories in the path\n",
    "subdirs = os.listdir(path_to_dir)\n",
    "# Go through all the subdirectories in the path\n",
    "for sub in subdirs:\n",
    "    # Fully qualified path to subdir\n",
    "    subdir_path = os.path.join(path_to_dir, sub)\n",
    "    for full_filename in glob.glob(os.path.join(subdir_path, '*.tif')):\n",
    "        # Open an image file\n",
    "        i = Image.open(full_filename)\n",
    "        # Change the file extension to jpg\n",
    "        jpg_path = full_filename[:-3] + 'jpg'\n",
    "        # Save the new image\n",
    "        i.save(jpg_path)\n",
    "#             # Delete image file with tif extension\n",
    "# #             os.remove(os.path.join(subdir_path,img))"
   ]
  },
  {
   "cell_type": "code",
   "execution_count": 9,
   "metadata": {},
   "outputs": [],
   "source": [
    "# This cell delete all tif images\n",
    "for sub in subdirs:\n",
    "    subdir_path = os.path.join(path_to_dir, sub)\n",
    "    for full_filename in glob.glob(os.path.join(subdir_path, '*.tif')):\n",
    "        os.remove(full_filename)"
   ]
  },
  {
   "cell_type": "code",
   "execution_count": null,
   "metadata": {},
   "outputs": [],
   "source": []
  }
 ],
 "metadata": {
  "kernelspec": {
   "display_name": "Python 3",
   "language": "python",
   "name": "python3"
  },
  "language_info": {
   "codemirror_mode": {
    "name": "ipython",
    "version": 3
   },
   "file_extension": ".py",
   "mimetype": "text/x-python",
   "name": "python",
   "nbconvert_exporter": "python",
   "pygments_lexer": "ipython3",
   "version": "3.7.3"
  }
 },
 "nbformat": 4,
 "nbformat_minor": 2
}
