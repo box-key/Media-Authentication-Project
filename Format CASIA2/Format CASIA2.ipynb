{
 "cells": [
  {
   "cell_type": "code",
   "execution_count": 1,
   "metadata": {},
   "outputs": [],
   "source": [
    "import time\n",
    "def print_time(start_time):\n",
    "    total = time.time() - start_time\n",
    "    print('In total, it takes:', int(total/60), 'minute and', int(total%60), 'seconds')"
   ]
  },
  {
   "cell_type": "code",
   "execution_count": 2,
   "metadata": {},
   "outputs": [],
   "source": [
    "# Initialization cell\n",
    "import glob\n",
    "import os\n",
    "import shutil\n",
    "\n",
    "path_to_AU = 'C:\\\\Users\\\\under\\\\Jupyter Projects\\\\Media Authentication Project\\\\CASIA2\\\\CASIA2\\\\CASIA2\\\\Au'\n",
    "newpath = 'C:\\\\Users\\\\under\\\\Jupyter Projects\\\\Media Authentication Project\\\\CASIA2_cleaned\\\\'\n",
    "path_to_TP = 'C:\\\\Users\\\\under\\\\Jupyter Projects\\\\Media Authentication Project\\\\CASIA2\\\\CASIA2\\\\CASIA2\\\\Tp'"
   ]
  },
  {
   "cell_type": "code",
   "execution_count": 3,
   "metadata": {},
   "outputs": [
    {
     "name": "stdout",
     "output_type": "stream",
     "text": [
      "In total, it takes: 0 minute and 0 seconds\n"
     ]
    }
   ],
   "source": [
    "# This cell makes new directory for each AU image\n",
    "# Then, it copies images into the new directories\n",
    "# the first term is for dir_path and +4 is for 'AU_'\n",
    "name_index = len(path_to_AU) + 4\n",
    "\n",
    "start_time = time.time()\n",
    "# Have it work for two data formats: .bmp and .jpg\n",
    "for extension in ('*.bmp', '*.jpg'):\n",
    "    for filename in glob.glob(os.path.join(path_to_AU, extension)):\n",
    "        # -4 is to remove '.jpg'\n",
    "        new_dir = newpath + filename[name_index:-4]\n",
    "        if not os.path.isdir(new_dir):\n",
    "            # Make a new directory\n",
    "            os.makedirs(new_dir)\n",
    "            # Copy an AU image into the new directory\n",
    "            shutil.copy(filename, new_dir)\n",
    "print_time(start_time)"
   ]
  },
  {
   "cell_type": "code",
   "execution_count": 4,
   "metadata": {},
   "outputs": [
    {
     "name": "stdout",
     "output_type": "stream",
     "text": [
      "7491 7491\n"
     ]
    }
   ],
   "source": [
    "# This cell is for debugging the previous cell\n",
    "num_files_newpath = len(os.listdir(newpath))\n",
    "# There is one file with .db extension in this folder\n",
    "num_files_AU = len(os.listdir(path_to_AU)) \n",
    "print(num_files_newpath, num_files_AU)"
   ]
  },
  {
   "cell_type": "code",
   "execution_count": 5,
   "metadata": {},
   "outputs": [],
   "source": [
    "# Helper function to find if a tampered file is inserted or not\n",
    "def file_exists(src_dir, filename):\n",
    "    path_to_file = src_dir+'\\\\'+filename\n",
    "    return os.path.exists(path_to_file)"
   ]
  },
  {
   "cell_type": "code",
   "execution_count": 6,
   "metadata": {},
   "outputs": [
    {
     "name": "stdout",
     "output_type": "stream",
     "text": [
      "In total, it takes: 0 minute and 0 seconds\n"
     ]
    }
   ],
   "source": [
    "# This cell group tempered files based on their src ID\n",
    "path_index = len(path_to_TP) + 1\n",
    "\n",
    "start_time = time.time()\n",
    "# Have it work for two data types: .tif and .jpg\n",
    "for extension in ('*.tif', '*.jpg'):\n",
    "    for fully_filename in glob.glob(os.path.join(path_to_TP, extension)):\n",
    "        # Split filename to extract src name\n",
    "        splitted = fully_filename.split('_')\n",
    "        # Insert '_' to match folder name\n",
    "        src_name = splitted[5][:3] + '_' + splitted[5][3:]\n",
    "        # Make destination path \n",
    "        target_src = newpath + src_name\n",
    "        # Extract filename from file path\n",
    "        filename = fully_filename[path_index:]\n",
    "        if not file_exists(target_src, filename):\n",
    "            shutil.copy(fully_filename, target_src)\n",
    "print_time(start_time)"
   ]
  },
  {
   "cell_type": "code",
   "execution_count": 7,
   "metadata": {},
   "outputs": [
    {
     "name": "stdout",
     "output_type": "stream",
     "text": [
      "5123 5123\n"
     ]
    }
   ],
   "source": [
    "# This cell is for debugging the previous cell\n",
    "# Note: there are two tampered pictures with wrong format; \n",
    "# Tp_S_CNN_S_N_cha0003_cha00003_00323.tif and Tp_S_NNN_M_N_pla0006_pla00006_01128.jpg\n",
    "# You have to manually move them into cha00003 and pla00006 folder for each\n",
    "\n",
    "# Get the number of tampered images in original folder\n",
    "num_files_TP = len(os.listdir(path_to_TP))\n",
    "\n",
    "# Get the number of tampered images in new folder\n",
    "num_tps_newfolder = 0\n",
    "for root, subdirs, files in os.walk(newpath):\n",
    "    # -1 for down counting authenticate file\n",
    "    for sub in subdirs:\n",
    "        temp = len(os.listdir(root+sub)) - 1\n",
    "        num_tps_newfolder += temp\n",
    "print(num_files_TP, num_tps_newfolder)"
   ]
  },
  {
   "cell_type": "code",
   "execution_count": null,
   "metadata": {},
   "outputs": [],
   "source": []
  }
 ],
 "metadata": {
  "kernelspec": {
   "display_name": "Python 3",
   "language": "python",
   "name": "python3"
  },
  "language_info": {
   "codemirror_mode": {
    "name": "ipython",
    "version": 3
   },
   "file_extension": ".py",
   "mimetype": "text/x-python",
   "name": "python",
   "nbconvert_exporter": "python",
   "pygments_lexer": "ipython3",
   "version": "3.7.3"
  }
 },
 "nbformat": 4,
 "nbformat_minor": 2
}
