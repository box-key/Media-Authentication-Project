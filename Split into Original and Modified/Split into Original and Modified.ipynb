{
 "cells": [
  {
   "cell_type": "code",
   "execution_count": 4,
   "metadata": {},
   "outputs": [],
   "source": [
    "# Initialization cell\n",
    "import glob\n",
    "import os\n",
    "import shutil\n",
    "\n",
    "path_to_data = 'C:\\\\Users\\\\under\\\\Jupyter Projects\\\\Media Authentication Project\\\\CASIA2_all_jpg'\n",
    "path_to_original = 'C:\\\\Users\\\\under\\\\Jupyter Projects\\\\Media Authentication Project\\\\CASIA2_splitted\\\\original'\n",
    "path_to_modified = 'C:\\\\Users\\\\under\\\\Jupyter Projects\\\\Media Authentication Project\\\\CASIA2_splitted\\\\modified'"
   ]
  },
  {
   "cell_type": "code",
   "execution_count": 16,
   "metadata": {
    "scrolled": false
   },
   "outputs": [],
   "source": [
    "# This cell removes all images without modified versions\n",
    "# Returns the list of subdirectories in the path\n",
    "subdirs = os.listdir(path_to_data)\n",
    "# Go through all the subdirectories in the path\n",
    "for sub in subdirs:\n",
    "    # Get fully qualified path to subdir\n",
    "    subdir_path = os.path.join(path_to_data, sub)\n",
    "    # Store the num of files in each subdir\n",
    "    num_files = len(os.listdir(subdir_path))\n",
    "    # Remove dir if the size is 1\n",
    "    if num_files == 1:\n",
    "        shutil.rmtree(subdir_path)"
   ]
  },
  {
   "cell_type": "code",
   "execution_count": 25,
   "metadata": {
    "scrolled": false
   },
   "outputs": [],
   "source": [
    "# This cell splits data into original folder and modified folder\n",
    "# Returns the list of subdirectories in the path\n",
    "subdirs = os.listdir(path_to_data)\n",
    "# Counter for photo ID\n",
    "counter = 1\n",
    "# Go through all the subdirectories in the path\n",
    "for sub in subdirs:\n",
    "    # Fully qualified path to subdir\n",
    "    subdir_path = os.path.join(path_to_data, sub)\n",
    "    # Counter to differentiate the original and modified images (i.e.) 0 = original\n",
    "    inner_counter = 0\n",
    "    for full_filename in glob.glob(os.path.join(subdir_path, '*.jpg')):\n",
    "        if inner_counter == 0:\n",
    "            target_path = os.path.join(path_to_original, str(counter) + '.jpg')\n",
    "        else:\n",
    "            target_path = os.path.join(path_to_modified, str(counter) + '_' + str(inner_counter) + '.jpg')\n",
    "        shutil.copy(full_filename, target_path)\n",
    "        inner_counter += 1\n",
    "    counter += 1"
   ]
  },
  {
   "cell_type": "code",
   "execution_count": null,
   "metadata": {},
   "outputs": [],
   "source": []
  }
 ],
 "metadata": {
  "kernelspec": {
   "display_name": "Python 3",
   "language": "python",
   "name": "python3"
  },
  "language_info": {
   "codemirror_mode": {
    "name": "ipython",
    "version": 3
   },
   "file_extension": ".py",
   "mimetype": "text/x-python",
   "name": "python",
   "nbconvert_exporter": "python",
   "pygments_lexer": "ipython3",
   "version": "3.7.3"
  }
 },
 "nbformat": 4,
 "nbformat_minor": 2
}
